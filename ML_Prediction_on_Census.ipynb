{
  "nbformat": 4,
  "nbformat_minor": 0,
  "metadata": {
    "colab": {
      "provenance": [],
      "authorship_tag": "ABX9TyN9Db0WjXMiqveGhC04sJ4q",
      "include_colab_link": true
    },
    "kernelspec": {
      "name": "python3",
      "display_name": "Python 3"
    },
    "language_info": {
      "name": "python"
    }
  },
  "cells": [
    {
      "cell_type": "markdown",
      "metadata": {
        "id": "view-in-github",
        "colab_type": "text"
      },
      "source": [
        "<a href=\"https://colab.research.google.com/github/wormulus/ML-Ensemble-Classification/blob/main/ML_Prediction_on_Census.ipynb\" target=\"_parent\"><img src=\"https://colab.research.google.com/assets/colab-badge.svg\" alt=\"Open In Colab\"/></a>"
      ]
    },
    {
      "cell_type": "code",
      "execution_count": 11,
      "metadata": {
        "cellView": "form",
        "id": "MJW8EqlOexaq"
      },
      "outputs": [],
      "source": [
        "#@title Setup\n",
        "#import things\n",
        "import pandas as pd\n",
        "import numpy as np\n",
        "\n",
        "from sklearn.model_selection import train_test_split\n",
        "\n",
        "from sklearn.tree import DecisionTreeClassifier\n",
        "from sklearn.ensemble import AdaBoostClassifier\n",
        "from sklearn.ensemble import GradientBoostingClassifier\n",
        "\n",
        "import matplotlib.pyplot as plt\n",
        "import seaborn as sns\n",
        "\n",
        "from sklearn.metrics import accuracy_score, precision_score, recall_score, f1_score, confusion_matrix\n",
        "\n",
        "#data path -- from UCI's archives\n",
        "data_path = \"https://archive.ics.uci.edu/ml/machine-learning-databases/adult/adult.data\"\n",
        "\n",
        "col_names = [\n",
        "    'age', 'workclass', 'fnlwgt','education', 'education-num', 'marital-status',\n",
        "    'occupation', 'relationship', 'race', 'sex', 'capital-gain','capital-loss',\n",
        "    'hours-per-week','native-country', 'income'\n",
        "]\n",
        "\n",
        "#read csv as pandas dataframe\n",
        "df = pd.read_csv(data_path, header=None, names = col_names)\n",
        "\n",
        "#clean columns by stripping extra whitespace for columns of type \"object\"\n",
        "for c in df.select_dtypes(include=['object']).columns:\n",
        "    df[c] = df[c].str.strip()\n",
        "\n",
        "target_column = \"income\"\n",
        "raw_feature_cols = [\n",
        "    'age',\n",
        "    'education-num',\n",
        "    'workclass',\n",
        "    'hours-per-week',\n",
        "    'sex',\n",
        "    'race'\n",
        "]\n"
      ]
    },
    {
      "cell_type": "code",
      "source": [
        "#@title < and > 50k Split, Features data types\n",
        "#Percentage of samples with income < and > 50k\n",
        "print('Percentage of samples with income < and > 50k')\n",
        "print(df['income'].value_counts(normalize=True))\n",
        "\n",
        "#Data types of features\n",
        "print('\\nData types of features')\n",
        "print(df[raw_feature_cols].dtypes)"
      ],
      "metadata": {
        "colab": {
          "base_uri": "https://localhost:8080/"
        },
        "cellView": "form",
        "id": "a_Sqh0V-gN1t",
        "outputId": "113158ae-e6d3-4a70-ce90-921f95dba75d"
      },
      "execution_count": 10,
      "outputs": [
        {
          "output_type": "stream",
          "name": "stdout",
          "text": [
            "Percentage of samples with income < and > 50k\n",
            "<=50K    0.75919\n",
            ">50K     0.24081\n",
            "Name: income, dtype: float64\n",
            "\n",
            "Data types of features\n",
            "age                int64\n",
            "education-num      int64\n",
            "workclass         object\n",
            "hours-per-week     int64\n",
            "sex               object\n",
            "race              object\n",
            "dtype: object\n"
          ]
        }
      ]
    },
    {
      "cell_type": "code",
      "source": [
        "#@title Prepping Data, Classifying, Training and Scoring\n",
        "#Preparing the features\n",
        "X = pd.get_dummies(df[raw_feature_cols], drop_first=True)\n",
        "\n",
        "print(X.head())\n",
        "\n",
        "#Convert target variable to binary\n",
        "#0 if < 50k, otherwise 1\n",
        "y = np.where(df[target_column] == '<=50K', 0, 1)\n",
        "\n",
        "#train-test split of 70/30\n",
        "X_train, X_test, y_train, y_test = train_test_split(X, y, test_size=0.3, random_state=1)\n",
        "\n",
        "#decision_stump as base estimator\n",
        "decision_stump = DecisionTreeClassifier(max_depth=1)\n",
        "\n",
        "#Create AdaBoost Classifier\n",
        "ada_classifier = AdaBoostClassifier(base_estimator = decision_stump)\n",
        "#Create GradientBoost Classifier\n",
        "grad_classifier = GradientBoostingClassifier()\n",
        "\n",
        "#Fit models and get predictions\n",
        "ada_classifier.fit(X_train, y_train)\n",
        "y_pred_ada = ada_classifier.predict(X_test)\n",
        "\n",
        "grad_classifier.fit(X_train, y_train)\n",
        "y_pred_grad = grad_classifier.predict(X_test)\n",
        "\n",
        "#Print accuracy and F1\n",
        "print(f\"AdaBoost accuracy: {accuracy_score(y_test, y_pred_ada)}\")\n",
        "print(f\"AdaBoost f1-score: {f1_score(y_test, y_pred_ada)}\")\n",
        "\n",
        "print(f\"Gradient Boost accuracy: {accuracy_score(y_test, y_pred_grad)}\")\n",
        "print(f\"Gradient Boost f1-score: {f1_score(y_test, y_pred_grad)}\")\n"
      ],
      "metadata": {
        "colab": {
          "base_uri": "https://localhost:8080/"
        },
        "id": "HjsE4T6zfpqf",
        "outputId": "8e204965-c5e7-42a8-95e2-cd16fe676171"
      },
      "execution_count": 12,
      "outputs": [
        {
          "output_type": "stream",
          "name": "stdout",
          "text": [
            "   age  education-num  hours-per-week  workclass_Federal-gov  \\\n",
            "0   39             13              40                      0   \n",
            "1   50             13              13                      0   \n",
            "2   38              9              40                      0   \n",
            "3   53              7              40                      0   \n",
            "4   28             13              40                      0   \n",
            "\n",
            "   workclass_Local-gov  workclass_Never-worked  workclass_Private  \\\n",
            "0                    0                       0                  0   \n",
            "1                    0                       0                  0   \n",
            "2                    0                       0                  1   \n",
            "3                    0                       0                  1   \n",
            "4                    0                       0                  1   \n",
            "\n",
            "   workclass_Self-emp-inc  workclass_Self-emp-not-inc  workclass_State-gov  \\\n",
            "0                       0                           0                    1   \n",
            "1                       0                           1                    0   \n",
            "2                       0                           0                    0   \n",
            "3                       0                           0                    0   \n",
            "4                       0                           0                    0   \n",
            "\n",
            "   workclass_Without-pay  sex_Male  race_Asian-Pac-Islander  race_Black  \\\n",
            "0                      0         1                        0           0   \n",
            "1                      0         1                        0           0   \n",
            "2                      0         1                        0           0   \n",
            "3                      0         1                        0           1   \n",
            "4                      0         0                        0           1   \n",
            "\n",
            "   race_Other  race_White  \n",
            "0           0           1  \n",
            "1           0           1  \n",
            "2           0           1  \n",
            "3           0           0  \n",
            "4           0           0  \n",
            "AdaBoost accuracy: 0.8165625959668339\n",
            "AdaBoost f1-score: 0.518796992481203\n",
            "Gradient Boost accuracy: 0.8234210256935203\n",
            "Gradient Boost f1-score: 0.5415891575870316\n"
          ]
        }
      ]
    },
    {
      "cell_type": "code",
      "source": [
        "#@title Hyperparameter Tuning\n",
        "\n",
        "#n_estimators to test\n",
        "n_estimators_list = [10, 30, 50, 70, 90]\n",
        "\n",
        "#Using GridSearchCV for AdaBoost\n",
        "from sklearn.model_selection import GridSearchCV\n",
        "estimator_parameters = {'n_estimators': n_estimators_list}\n",
        "ada_gridsearch = GridSearchCV(ada_classifier, estimator_parameters, cv=5, scoring='accuracy', verbose=True)\n",
        "ada_gridsearch.fit(X_train, y_train)\n",
        "\n",
        "#plot mean test scores\n",
        "ada_scores_list = ada_gridsearch.cv_results_['mean_test_score']\n",
        "plt.scatter(n_estimators_list, ada_scores_list)\n",
        "plt.title(\"AdaBoost Classifier - n_estimators tuning\")\n",
        "plt.show()\n",
        "\n",
        "#Using GridSearchCV for GradBoost\n",
        "from sklearn.model_selection import GridSearchCV\n",
        "estimator_parameters = {'n_estimators': n_estimators_list}\n",
        "grad_gridsearch = GridSearchCV(grad_classifier, estimator_parameters, cv=5, scoring='accuracy', verbose=True)\n",
        "grad_gridsearch.fit(X_train, y_train)\n",
        "\n",
        "#plot mean test scores\n",
        "grad_scores_list = grad_gridsearch.cv_results_['mean_test_score']\n",
        "plt.scatter(n_estimators_list, grad_scores_list)\n",
        "plt.title(\"GradientBoosting Classifier - n_estimators tuning\")\n",
        "plt.show()\n"
      ],
      "metadata": {
        "colab": {
          "base_uri": "https://localhost:8080/",
          "height": 581
        },
        "cellView": "form",
        "id": "6h_fb4fxg-14",
        "outputId": "8685b944-c1ab-49fb-9c4e-fa1fb43f98e1"
      },
      "execution_count": 16,
      "outputs": [
        {
          "output_type": "stream",
          "name": "stdout",
          "text": [
            "Fitting 5 folds for each of 5 candidates, totalling 25 fits\n"
          ]
        },
        {
          "output_type": "display_data",
          "data": {
            "text/plain": [
              "<Figure size 432x288 with 1 Axes>"
            ],
            "image/png": "[encoded data removed]"
          },
          "metadata": {
            "needs_background": "light"
          }
        },
        {
          "output_type": "stream",
          "name": "stdout",
          "text": [
            "Fitting 5 folds for each of 5 candidates, totalling 25 fits\n"
          ]
        },
        {
          "output_type": "display_data",
          "data": {
            "text/plain": [
              "<Figure size 432x288 with 1 Axes>"
            ],
            "image/png": "[encoded data removed]"
          },
          "metadata": {
            "needs_background": "light"
          }
        }
      ]
    },
    {
      "cell_type": "markdown",
      "source": [
        "## Conclusions\n",
        "\n",
        "* AdaBoost accuracy: 0.8166\n",
        "* AdaBoost f1-score: 0.5188\n",
        "* Gradient Boost accuracy: 0.8234\n",
        "* Gradient Boost f1-score: 0.5416\n",
        "\n",
        "From this, I would say we should use the Gradient Boost model. Looking at the n_estimators hyperparameter tuning, I would suggest using n_estimators of at least 50, but not more than 70."
      ],
      "metadata": {
        "id": "Q5mjIElBhM3Q"
      }
    }
  ]
}